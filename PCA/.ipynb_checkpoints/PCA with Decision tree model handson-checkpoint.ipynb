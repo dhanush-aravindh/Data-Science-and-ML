{
 "cells": [
  {
   "cell_type": "code",
   "execution_count": null,
   "id": "f6cdd970",
   "metadata": {},
   "outputs": [],
   "source": [
    "import numpy as np \n",
    "import pandas as pd  \n",
    "from sklearn.decomposition import PCA \n",
    "  \n",
    "import matplotlib.pyplot as plt \n",
    "import seaborn as sns\n",
    "%matplotlib inline\n",
    "\n",
    "from sklearn.model_selection import train_test_split\n",
    "from sklearn.tree import DecisionTreeClassifier\n",
    "from sklearn.metrics import accuracy_score,confusion_matrix"
   ]
  },
  {
   "cell_type": "code",
   "execution_count": null,
   "id": "ee4f8f7e",
   "metadata": {},
   "outputs": [],
   "source": [
    "#!pip install sklearn"
   ]
  },
  {
   "cell_type": "code",
   "execution_count": null,
   "id": "23d58ba4",
   "metadata": {},
   "outputs": [],
   "source": [
    "#MNIST hand written digits dataset\n",
    "#img 1-- what digit is written on that img "
   ]
  },
  {
   "cell_type": "code",
   "execution_count": null,
   "id": "65f540ba",
   "metadata": {},
   "outputs": [],
   "source": [
    "from sklearn import datasets"
   ]
  },
  {
   "cell_type": "code",
   "execution_count": null,
   "id": "dc275292",
   "metadata": {},
   "outputs": [],
   "source": [
    "#dir(datasets)"
   ]
  },
  {
   "cell_type": "code",
   "execution_count": null,
   "id": "8480e77a",
   "metadata": {},
   "outputs": [],
   "source": [
    "from sklearn.datasets import load_digits\n",
    "digits = load_digits()"
   ]
  },
  {
   "cell_type": "code",
   "execution_count": null,
   "id": "1b8db61e",
   "metadata": {},
   "outputs": [],
   "source": [
    "digits"
   ]
  },
  {
   "cell_type": "code",
   "execution_count": null,
   "id": "e8862428",
   "metadata": {},
   "outputs": [],
   "source": [
    "#data-- array format data of images-- every image is having 64 munber of pixcels\n"
   ]
  },
  {
   "cell_type": "code",
   "execution_count": null,
   "id": "7f1093a8",
   "metadata": {},
   "outputs": [],
   "source": [
    "data1=pd.DataFrame(digits.data)"
   ]
  },
  {
   "cell_type": "code",
   "execution_count": null,
   "id": "6621693d",
   "metadata": {},
   "outputs": [],
   "source": [
    "data1.head()"
   ]
  },
  {
   "cell_type": "code",
   "execution_count": null,
   "id": "6562747a",
   "metadata": {},
   "outputs": [],
   "source": []
  },
  {
   "cell_type": "code",
   "execution_count": null,
   "id": "5bfa21b5",
   "metadata": {},
   "outputs": [],
   "source": [
    "data1.describe()"
   ]
  },
  {
   "cell_type": "code",
   "execution_count": null,
   "id": "5e7ae593",
   "metadata": {},
   "outputs": [],
   "source": [
    "digits.data.shape"
   ]
  },
  {
   "cell_type": "code",
   "execution_count": null,
   "id": "6b5cfe03",
   "metadata": {},
   "outputs": [],
   "source": [
    "digits.images.shape"
   ]
  },
  {
   "cell_type": "code",
   "execution_count": null,
   "id": "fa79b642",
   "metadata": {},
   "outputs": [],
   "source": []
  },
  {
   "cell_type": "code",
   "execution_count": null,
   "id": "8a05f77c",
   "metadata": {},
   "outputs": [],
   "source": [
    "digits.data[0]"
   ]
  },
  {
   "cell_type": "code",
   "execution_count": null,
   "id": "72f07206",
   "metadata": {},
   "outputs": [],
   "source": [
    "#plt.imshow(digits.data[0])"
   ]
  },
  {
   "cell_type": "code",
   "execution_count": null,
   "id": "68de2d8a",
   "metadata": {},
   "outputs": [],
   "source": [
    "digits.images[0]"
   ]
  },
  {
   "cell_type": "code",
   "execution_count": null,
   "id": "dc187610",
   "metadata": {},
   "outputs": [],
   "source": [
    "digits.images[0].shape"
   ]
  },
  {
   "cell_type": "code",
   "execution_count": null,
   "id": "293484d7",
   "metadata": {},
   "outputs": [],
   "source": [
    "plt.imshow(digits.images[1], cmap=plt.cm.gray)"
   ]
  },
  {
   "cell_type": "code",
   "execution_count": null,
   "id": "dda9ba56",
   "metadata": {},
   "outputs": [],
   "source": [
    "digits"
   ]
  },
  {
   "cell_type": "code",
   "execution_count": null,
   "id": "bbc660d8",
   "metadata": {},
   "outputs": [],
   "source": [
    "#index value will take the 1st index from the digits data-- 0\n",
    "#image value will take the 1st img from the data key value- 1-d array\n",
    "#label value will take the 1st label from the target value"
   ]
  },
  {
   "cell_type": "code",
   "execution_count": null,
   "id": "c6fe94ee",
   "metadata": {},
   "outputs": [],
   "source": [
    "#Displaying some of the images and labels\n",
    "import numpy as np\n",
    "import matplotlib.pyplot as plt\n",
    "\n",
    "plt.figure(figsize=(15,4))\n",
    "for index, (image, label) in enumerate(zip(digits.data[0:5], digits.target[0:5])):\n",
    "    plt.subplot(1,5, index+1)\n",
    "    plt.imshow(np.reshape(image, (8,8)), cmap=plt.cm.gray)\n",
    "    plt.title(f\"Training: {label}\", fontsize=20 )  "
   ]
  },
  {
   "cell_type": "code",
   "execution_count": null,
   "id": "55dfd79f",
   "metadata": {},
   "outputs": [],
   "source": [
    "x=digits.data #independent data-- all 64 features\n",
    "y=digits.target #dependnet data-- all the  labels on the images"
   ]
  },
  {
   "cell_type": "code",
   "execution_count": null,
   "id": "2ea1726c",
   "metadata": {},
   "outputs": [],
   "source": [
    "x"
   ]
  },
  {
   "cell_type": "code",
   "execution_count": null,
   "id": "a61c33a8",
   "metadata": {},
   "outputs": [],
   "source": [
    "y"
   ]
  },
  {
   "cell_type": "code",
   "execution_count": null,
   "id": "b13ec5d9",
   "metadata": {},
   "outputs": [],
   "source": [
    "x.shape"
   ]
  },
  {
   "cell_type": "code",
   "execution_count": null,
   "id": "e7767e0b",
   "metadata": {},
   "outputs": [],
   "source": [
    "y.shape"
   ]
  },
  {
   "cell_type": "code",
   "execution_count": null,
   "id": "9d04a3f7",
   "metadata": {},
   "outputs": [],
   "source": [
    "data1.describe()"
   ]
  },
  {
   "cell_type": "code",
   "execution_count": null,
   "id": "fa077131",
   "metadata": {},
   "outputs": [],
   "source": [
    "from sklearn.preprocessing import StandardScaler\n",
    "# Data Normalization\n",
    "X_std = StandardScaler().fit_transform(x)"
   ]
  },
  {
   "cell_type": "code",
   "execution_count": null,
   "id": "264aa12b",
   "metadata": {},
   "outputs": [],
   "source": [
    "X_std"
   ]
  },
  {
   "cell_type": "code",
   "execution_count": null,
   "id": "b9ba9121",
   "metadata": {},
   "outputs": [],
   "source": [
    "X_std.shape"
   ]
  },
  {
   "cell_type": "code",
   "execution_count": null,
   "id": "771bc96d",
   "metadata": {},
   "outputs": [],
   "source": []
  },
  {
   "cell_type": "code",
   "execution_count": null,
   "id": "53c52a35",
   "metadata": {},
   "outputs": [],
   "source": [
    "x1=X_std.T\n",
    "x1"
   ]
  },
  {
   "cell_type": "code",
   "execution_count": null,
   "id": "5752c5e8",
   "metadata": {},
   "outputs": [],
   "source": [
    "x1.shape"
   ]
  },
  {
   "cell_type": "code",
   "execution_count": null,
   "id": "eae4d96a",
   "metadata": {},
   "outputs": [],
   "source": [
    "cov_mat = np.cov(X_std.T)"
   ]
  },
  {
   "cell_type": "code",
   "execution_count": null,
   "id": "d48088b8",
   "metadata": {},
   "outputs": [],
   "source": [
    "eig_vals, eig_vecs = np.linalg.eig(cov_mat)#"
   ]
  },
  {
   "cell_type": "code",
   "execution_count": null,
   "id": "9749fd97",
   "metadata": {},
   "outputs": [],
   "source": [
    "eig_vals"
   ]
  },
  {
   "cell_type": "code",
   "execution_count": null,
   "id": "fb97fcad",
   "metadata": {},
   "outputs": [],
   "source": [
    "# Calculation of Explained Variance from the eigenvalues\n",
    "tot = sum(eig_vals)\n",
    "var_exp = [(i/tot)*100 for i in sorted(eig_vals, reverse=True)] # Individual explained variance\n",
    "var_exp"
   ]
  },
  {
   "cell_type": "code",
   "execution_count": null,
   "id": "194ada56",
   "metadata": {},
   "outputs": [],
   "source": [
    "cum_var_exp = np.cumsum(var_exp) # Cumulative explained variance\n",
    "cum_var_exp"
   ]
  },
  {
   "cell_type": "code",
   "execution_count": null,
   "id": "cec7878b",
   "metadata": {},
   "outputs": [],
   "source": [
    "plt.figure(figsize=(10, 5))\n",
    "plt.bar(range(len(var_exp)), var_exp, label='individual explained variance', color = 'g')\n",
    "plt.step(range(len(cum_var_exp)), cum_var_exp,label='cumulative explained variance')\n",
    "plt.ylabel('Explained variance ratio')\n",
    "plt.xlabel('Principal components')\n",
    "plt.legend()\n",
    "plt.show()"
   ]
  },
  {
   "cell_type": "code",
   "execution_count": null,
   "id": "5f56ddb0",
   "metadata": {},
   "outputs": [],
   "source": [
    "x_train,x_test,y_train,y_test=train_test_split(X_std,y, train_size=0.8)"
   ]
  },
  {
   "cell_type": "code",
   "execution_count": null,
   "id": "a66e28e2",
   "metadata": {},
   "outputs": [],
   "source": [
    "x_test.shape"
   ]
  },
  {
   "cell_type": "code",
   "execution_count": null,
   "id": "d4424209",
   "metadata": {},
   "outputs": [],
   "source": [
    "x_train.shape"
   ]
  },
  {
   "cell_type": "code",
   "execution_count": null,
   "id": "f39b8439",
   "metadata": {},
   "outputs": [],
   "source": [
    "pca = PCA(n_components=20)\n",
    "pca_x_train = pca.fit_transform(x_train)\n",
    "pca_x_test = pca.transform(x_test)#same chnages will ge applied on x test dataset"
   ]
  },
  {
   "cell_type": "code",
   "execution_count": null,
   "id": "4a821b93",
   "metadata": {},
   "outputs": [],
   "source": [
    "pca_x_train.shape"
   ]
  },
  {
   "cell_type": "code",
   "execution_count": null,
   "id": "f06356c9",
   "metadata": {},
   "outputs": [],
   "source": [
    "pca_x_test.shape"
   ]
  },
  {
   "cell_type": "code",
   "execution_count": null,
   "id": "4cd07884",
   "metadata": {},
   "outputs": [],
   "source": []
  },
  {
   "cell_type": "code",
   "execution_count": null,
   "id": "c49b661c",
   "metadata": {},
   "outputs": [],
   "source": []
  },
  {
   "cell_type": "code",
   "execution_count": null,
   "id": "1400ad9c",
   "metadata": {},
   "outputs": [],
   "source": [
    "rf=DecisionTreeClassifier().fit(pca_x_train,y_train)"
   ]
  },
  {
   "cell_type": "code",
   "execution_count": null,
   "id": "0f1b6414",
   "metadata": {},
   "outputs": [],
   "source": [
    "predicted=rf.predict(pca_x_test)"
   ]
  },
  {
   "cell_type": "code",
   "execution_count": null,
   "id": "6001dbdd",
   "metadata": {},
   "outputs": [],
   "source": [
    "predicted"
   ]
  },
  {
   "cell_type": "code",
   "execution_count": null,
   "id": "194b54fc",
   "metadata": {},
   "outputs": [],
   "source": [
    "y_test.shape"
   ]
  },
  {
   "cell_type": "code",
   "execution_count": null,
   "id": "3d503888",
   "metadata": {},
   "outputs": [],
   "source": [
    "accuracy_score(predicted,y_test)"
   ]
  },
  {
   "cell_type": "code",
   "execution_count": null,
   "id": "81d34a82",
   "metadata": {},
   "outputs": [],
   "source": [
    "confusion_matrix(predicted, y_test)"
   ]
  },
  {
   "cell_type": "code",
   "execution_count": null,
   "id": "5f139519",
   "metadata": {},
   "outputs": [],
   "source": [
    "'''\n",
    "      Predictions\n",
    "       \n",
    "Actual   0    1   2   3   4   5   6   7   8   9     \n",
    "      0 [26,  0,  0,  0,  0,  1,  1,  0,  0,  1],\n",
    "      1 [ 1, 34,  0,  0,  0,  0,  0,  0,  3,  1],\n",
    "      2 [ 0,  0, 31,  0,  0,  1,  0,  1,  2,  1],\n",
    "      3 [ 0,  0,  0, 24,  0,  1,  0,  0,  4,  4],\n",
    "      4 [ 0,  0,  1,  0, 28,  0,  1,  0,  1,  1],\n",
    "      5 [ 1,  0,  0,  1,  1, 31,  0,  1,  2,  2],\n",
    "      6 [ 1,  0,  0,  0,  0,  0, 34,  1,  0,  0],\n",
    "      7 [ 0,  0,  1,  0,  2,  0,  0, 35,  0,  0],\n",
    "      8 [ 0,  0,  2,  1,  0,  2,  1,  0, 29,  3],\n",
    "      9 [ 1,  1,  1,  0,  1,  2,  0,  1,  2, 31]]\n",
    "'''"
   ]
  },
  {
   "cell_type": "code",
   "execution_count": null,
   "id": "7aa5e509",
   "metadata": {},
   "outputs": [],
   "source": [
    "digits.data"
   ]
  },
  {
   "cell_type": "code",
   "execution_count": null,
   "id": "5622a89b",
   "metadata": {},
   "outputs": [],
   "source": [
    "digits.target[0:5]"
   ]
  },
  {
   "cell_type": "code",
   "execution_count": null,
   "id": "27c19b53",
   "metadata": {},
   "outputs": [],
   "source": [
    "for i,a in enumerate([2,3,4,54]):\n",
    "    print(i,a)"
   ]
  },
  {
   "cell_type": "code",
   "execution_count": null,
   "id": "31e15f58",
   "metadata": {},
   "outputs": [],
   "source": []
  },
  {
   "cell_type": "code",
   "execution_count": null,
   "id": "9c3134d0",
   "metadata": {},
   "outputs": [],
   "source": [
    "predicted"
   ]
  },
  {
   "cell_type": "code",
   "execution_count": null,
   "id": "31a8b35c",
   "metadata": {},
   "outputs": [],
   "source": [
    "y_test"
   ]
  },
  {
   "cell_type": "code",
   "execution_count": null,
   "id": "465030f7",
   "metadata": {},
   "outputs": [],
   "source": [
    "y_test.shape"
   ]
  },
  {
   "cell_type": "code",
   "execution_count": null,
   "id": "c3ba450c",
   "metadata": {},
   "outputs": [],
   "source": [
    "#index value will take the 1st index from the zip() of y_pred and y_test--- 0\n",
    "#predicted value will take the 1st value from the y_pred value- 6\n",
    "#actual value will take the 1st value from the y_test data-- 6"
   ]
  },
  {
   "cell_type": "code",
   "execution_count": null,
   "id": "26b443fe",
   "metadata": {},
   "outputs": [],
   "source": [
    "def get_misclassified_index(y_pred,y_test):\n",
    "    misclassification=[]#help us out to get the misclassified index value\n",
    "    for index,(predicted,actual) in enumerate(zip(y_pred,y_test)):\n",
    "        if predicted!=actual:\n",
    "            misclassification.append(index)\n",
    "            \n",
    "    return misclassification"
   ]
  },
  {
   "cell_type": "code",
   "execution_count": null,
   "id": "1511b6cc",
   "metadata": {},
   "outputs": [],
   "source": [
    "misclassification = get_misclassified_index(predicted,y_test)"
   ]
  },
  {
   "cell_type": "code",
   "execution_count": null,
   "id": "a132f63d",
   "metadata": {},
   "outputs": [],
   "source": [
    "len(misclassification)"
   ]
  },
  {
   "cell_type": "code",
   "execution_count": null,
   "id": "97a832fa",
   "metadata": {},
   "outputs": [],
   "source": [
    "pca_x_test[14]"
   ]
  },
  {
   "cell_type": "code",
   "execution_count": null,
   "id": "adfd8590",
   "metadata": {},
   "outputs": [],
   "source": [
    "predicted[14]"
   ]
  },
  {
   "cell_type": "code",
   "execution_count": null,
   "id": "1f5d6a0e",
   "metadata": {},
   "outputs": [],
   "source": [
    "y_test[14]"
   ]
  },
  {
   "cell_type": "code",
   "execution_count": null,
   "id": "0819cf64",
   "metadata": {},
   "outputs": [],
   "source": [
    "misclassification[0:5]"
   ]
  },
  {
   "cell_type": "code",
   "execution_count": null,
   "id": "41f21ca0",
   "metadata": {},
   "outputs": [],
   "source": [
    "for the 1st loop, index=0, wrong= 14"
   ]
  },
  {
   "cell_type": "code",
   "execution_count": null,
   "id": "8f1e2c73",
   "metadata": {},
   "outputs": [],
   "source": [
    "def plot_misclassifications(misclassification):\n",
    "    plt.figure(figsize=(20,4))\n",
    "    for index,wrong in enumerate(misclassification[0:5]):\n",
    "        plt.subplot(1,5,index+1)\n",
    "        plt.imshow(np.reshape(pca_x_test[wrong],(5,4)),cmap=plt.cm.gray)\n",
    "        plt.title(\"Predicted:{} Actual:{}\".format(predicted[wrong],y_test[wrong]))"
   ]
  },
  {
   "cell_type": "code",
   "execution_count": null,
   "id": "86db8802",
   "metadata": {},
   "outputs": [],
   "source": [
    "plot_misclassifications(misclassification)"
   ]
  },
  {
   "cell_type": "code",
   "execution_count": null,
   "id": "0cc473b3",
   "metadata": {},
   "outputs": [],
   "source": []
  }
 ],
 "metadata": {
  "kernelspec": {
   "display_name": "Python 3",
   "language": "python",
   "name": "python3"
  },
  "language_info": {
   "codemirror_mode": {
    "name": "ipython",
    "version": 3
   },
   "file_extension": ".py",
   "mimetype": "text/x-python",
   "name": "python",
   "nbconvert_exporter": "python",
   "pygments_lexer": "ipython3",
   "version": "3.8.8"
  }
 },
 "nbformat": 4,
 "nbformat_minor": 5
}
